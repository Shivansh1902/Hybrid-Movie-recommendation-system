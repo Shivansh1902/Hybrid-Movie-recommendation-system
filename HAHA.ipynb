{
 "cells": [
  {
   "cell_type": "code",
   "execution_count": 201,
   "id": "e3dcf526-a3c4-4092-a0c3-3099753dbbc5",
   "metadata": {},
   "outputs": [],
   "source": [
    "import numpy as np \n",
    "import pandas as pd\n",
    "import datetime as dt\n",
    "from ast import literal_eval\n",
    "from sklearn.feature_extraction.text import CountVectorizer\n",
    "from sklearn.feature_extraction.text import TfidfVectorizer \n",
    "from sklearn.metrics.pairwise import cosine_similarity,euclidean_distances,manhattan_distances\n",
    "from scipy.sparse import csr_matrix,hstack\n",
    "from sklearn.neighbors import NearestNeighbors\n",
    "from sklearn.preprocessing import OneHotEncoder\n",
    "from surprise import Dataset, Reader, SVD\n",
    "from surprise.model_selection import train_test_split\n",
    "from surprise import accuracy\n"
   ]
  },
  {
   "cell_type": "code",
   "execution_count": 75,
   "id": "2a657d10-ef6d-4210-a9c9-279db581f76c",
   "metadata": {},
   "outputs": [],
   "source": [
    "df=pd.read_csv('/Users/shivanshgupta/Desktop/Research shit/archive-2/movies_metadata.csv',low_memory=False)\n",
    "rating=pd.read_csv('/Users/shivanshgupta/Desktop/Research shit/archive-2/ratings_small.csv',low_memory=False)\n",
    "ids=pd.read_csv('/Users/shivanshgupta/Desktop/Research shit/archive-2/links_small.csv',low_memory=False)"
   ]
  },
  {
   "cell_type": "code",
   "execution_count": 76,
   "id": "4f4e795e-a28b-428f-b10d-e6ec59c295cb",
   "metadata": {},
   "outputs": [
    {
     "data": {
      "text/html": [
       "<div>\n",
       "<style scoped>\n",
       "    .dataframe tbody tr th:only-of-type {\n",
       "        vertical-align: middle;\n",
       "    }\n",
       "\n",
       "    .dataframe tbody tr th {\n",
       "        vertical-align: top;\n",
       "    }\n",
       "\n",
       "    .dataframe thead th {\n",
       "        text-align: right;\n",
       "    }\n",
       "</style>\n",
       "<table border=\"1\" class=\"dataframe\">\n",
       "  <thead>\n",
       "    <tr style=\"text-align: right;\">\n",
       "      <th></th>\n",
       "      <th>userId</th>\n",
       "      <th>movieId</th>\n",
       "      <th>rating</th>\n",
       "      <th>timestamp</th>\n",
       "    </tr>\n",
       "  </thead>\n",
       "  <tbody>\n",
       "    <tr>\n",
       "      <th>0</th>\n",
       "      <td>1</td>\n",
       "      <td>31</td>\n",
       "      <td>2.5</td>\n",
       "      <td>1260759144</td>\n",
       "    </tr>\n",
       "    <tr>\n",
       "      <th>1</th>\n",
       "      <td>1</td>\n",
       "      <td>1029</td>\n",
       "      <td>3.0</td>\n",
       "      <td>1260759179</td>\n",
       "    </tr>\n",
       "    <tr>\n",
       "      <th>2</th>\n",
       "      <td>1</td>\n",
       "      <td>1061</td>\n",
       "      <td>3.0</td>\n",
       "      <td>1260759182</td>\n",
       "    </tr>\n",
       "    <tr>\n",
       "      <th>3</th>\n",
       "      <td>1</td>\n",
       "      <td>1129</td>\n",
       "      <td>2.0</td>\n",
       "      <td>1260759185</td>\n",
       "    </tr>\n",
       "    <tr>\n",
       "      <th>4</th>\n",
       "      <td>1</td>\n",
       "      <td>1172</td>\n",
       "      <td>4.0</td>\n",
       "      <td>1260759205</td>\n",
       "    </tr>\n",
       "  </tbody>\n",
       "</table>\n",
       "</div>"
      ],
      "text/plain": [
       "   userId  movieId  rating   timestamp\n",
       "0       1       31     2.5  1260759144\n",
       "1       1     1029     3.0  1260759179\n",
       "2       1     1061     3.0  1260759182\n",
       "3       1     1129     2.0  1260759185\n",
       "4       1     1172     4.0  1260759205"
      ]
     },
     "execution_count": 76,
     "metadata": {},
     "output_type": "execute_result"
    }
   ],
   "source": [
    "rating.head()"
   ]
  },
  {
   "cell_type": "code",
   "execution_count": 77,
   "id": "cde45b3b-0d47-4cf6-a90c-bfb1373e159c",
   "metadata": {},
   "outputs": [
    {
     "data": {
      "text/html": [
       "<div>\n",
       "<style scoped>\n",
       "    .dataframe tbody tr th:only-of-type {\n",
       "        vertical-align: middle;\n",
       "    }\n",
       "\n",
       "    .dataframe tbody tr th {\n",
       "        vertical-align: top;\n",
       "    }\n",
       "\n",
       "    .dataframe thead th {\n",
       "        text-align: right;\n",
       "    }\n",
       "</style>\n",
       "<table border=\"1\" class=\"dataframe\">\n",
       "  <thead>\n",
       "    <tr style=\"text-align: right;\">\n",
       "      <th></th>\n",
       "      <th>movieId</th>\n",
       "      <th>imdbId</th>\n",
       "      <th>tmdbId</th>\n",
       "    </tr>\n",
       "  </thead>\n",
       "  <tbody>\n",
       "    <tr>\n",
       "      <th>0</th>\n",
       "      <td>1</td>\n",
       "      <td>114709</td>\n",
       "      <td>862.0</td>\n",
       "    </tr>\n",
       "    <tr>\n",
       "      <th>1</th>\n",
       "      <td>2</td>\n",
       "      <td>113497</td>\n",
       "      <td>8844.0</td>\n",
       "    </tr>\n",
       "    <tr>\n",
       "      <th>2</th>\n",
       "      <td>3</td>\n",
       "      <td>113228</td>\n",
       "      <td>15602.0</td>\n",
       "    </tr>\n",
       "    <tr>\n",
       "      <th>3</th>\n",
       "      <td>4</td>\n",
       "      <td>114885</td>\n",
       "      <td>31357.0</td>\n",
       "    </tr>\n",
       "    <tr>\n",
       "      <th>4</th>\n",
       "      <td>5</td>\n",
       "      <td>113041</td>\n",
       "      <td>11862.0</td>\n",
       "    </tr>\n",
       "  </tbody>\n",
       "</table>\n",
       "</div>"
      ],
      "text/plain": [
       "   movieId  imdbId   tmdbId\n",
       "0        1  114709    862.0\n",
       "1        2  113497   8844.0\n",
       "2        3  113228  15602.0\n",
       "3        4  114885  31357.0\n",
       "4        5  113041  11862.0"
      ]
     },
     "execution_count": 77,
     "metadata": {},
     "output_type": "execute_result"
    }
   ],
   "source": [
    "ids.head()"
   ]
  },
  {
   "cell_type": "code",
   "execution_count": 78,
   "id": "5d35d013-e445-4d9a-aed9-786d08ae0e8a",
   "metadata": {},
   "outputs": [
    {
     "data": {
      "text/html": [
       "<div>\n",
       "<style scoped>\n",
       "    .dataframe tbody tr th:only-of-type {\n",
       "        vertical-align: middle;\n",
       "    }\n",
       "\n",
       "    .dataframe tbody tr th {\n",
       "        vertical-align: top;\n",
       "    }\n",
       "\n",
       "    .dataframe thead th {\n",
       "        text-align: right;\n",
       "    }\n",
       "</style>\n",
       "<table border=\"1\" class=\"dataframe\">\n",
       "  <thead>\n",
       "    <tr style=\"text-align: right;\">\n",
       "      <th></th>\n",
       "      <th>adult</th>\n",
       "      <th>belongs_to_collection</th>\n",
       "      <th>budget</th>\n",
       "      <th>genres</th>\n",
       "      <th>homepage</th>\n",
       "      <th>id</th>\n",
       "      <th>imdb_id</th>\n",
       "      <th>original_language</th>\n",
       "      <th>original_title</th>\n",
       "      <th>overview</th>\n",
       "      <th>...</th>\n",
       "      <th>release_date</th>\n",
       "      <th>revenue</th>\n",
       "      <th>runtime</th>\n",
       "      <th>spoken_languages</th>\n",
       "      <th>status</th>\n",
       "      <th>tagline</th>\n",
       "      <th>title</th>\n",
       "      <th>video</th>\n",
       "      <th>vote_average</th>\n",
       "      <th>vote_count</th>\n",
       "    </tr>\n",
       "  </thead>\n",
       "  <tbody>\n",
       "    <tr>\n",
       "      <th>0</th>\n",
       "      <td>False</td>\n",
       "      <td>{'id': 10194, 'name': 'Toy Story Collection', ...</td>\n",
       "      <td>30000000</td>\n",
       "      <td>[{'id': 16, 'name': 'Animation'}, {'id': 35, '...</td>\n",
       "      <td>http://toystory.disney.com/toy-story</td>\n",
       "      <td>862</td>\n",
       "      <td>tt0114709</td>\n",
       "      <td>en</td>\n",
       "      <td>Toy Story</td>\n",
       "      <td>Led by Woody, Andy's toys live happily in his ...</td>\n",
       "      <td>...</td>\n",
       "      <td>1995-10-30</td>\n",
       "      <td>373554033.0</td>\n",
       "      <td>81.0</td>\n",
       "      <td>[{'iso_639_1': 'en', 'name': 'English'}]</td>\n",
       "      <td>Released</td>\n",
       "      <td>NaN</td>\n",
       "      <td>Toy Story</td>\n",
       "      <td>False</td>\n",
       "      <td>7.7</td>\n",
       "      <td>5415.0</td>\n",
       "    </tr>\n",
       "    <tr>\n",
       "      <th>1</th>\n",
       "      <td>False</td>\n",
       "      <td>NaN</td>\n",
       "      <td>65000000</td>\n",
       "      <td>[{'id': 12, 'name': 'Adventure'}, {'id': 14, '...</td>\n",
       "      <td>NaN</td>\n",
       "      <td>8844</td>\n",
       "      <td>tt0113497</td>\n",
       "      <td>en</td>\n",
       "      <td>Jumanji</td>\n",
       "      <td>When siblings Judy and Peter discover an encha...</td>\n",
       "      <td>...</td>\n",
       "      <td>1995-12-15</td>\n",
       "      <td>262797249.0</td>\n",
       "      <td>104.0</td>\n",
       "      <td>[{'iso_639_1': 'en', 'name': 'English'}, {'iso...</td>\n",
       "      <td>Released</td>\n",
       "      <td>Roll the dice and unleash the excitement!</td>\n",
       "      <td>Jumanji</td>\n",
       "      <td>False</td>\n",
       "      <td>6.9</td>\n",
       "      <td>2413.0</td>\n",
       "    </tr>\n",
       "    <tr>\n",
       "      <th>2</th>\n",
       "      <td>False</td>\n",
       "      <td>{'id': 119050, 'name': 'Grumpy Old Men Collect...</td>\n",
       "      <td>0</td>\n",
       "      <td>[{'id': 10749, 'name': 'Romance'}, {'id': 35, ...</td>\n",
       "      <td>NaN</td>\n",
       "      <td>15602</td>\n",
       "      <td>tt0113228</td>\n",
       "      <td>en</td>\n",
       "      <td>Grumpier Old Men</td>\n",
       "      <td>A family wedding reignites the ancient feud be...</td>\n",
       "      <td>...</td>\n",
       "      <td>1995-12-22</td>\n",
       "      <td>0.0</td>\n",
       "      <td>101.0</td>\n",
       "      <td>[{'iso_639_1': 'en', 'name': 'English'}]</td>\n",
       "      <td>Released</td>\n",
       "      <td>Still Yelling. Still Fighting. Still Ready for...</td>\n",
       "      <td>Grumpier Old Men</td>\n",
       "      <td>False</td>\n",
       "      <td>6.5</td>\n",
       "      <td>92.0</td>\n",
       "    </tr>\n",
       "    <tr>\n",
       "      <th>3</th>\n",
       "      <td>False</td>\n",
       "      <td>NaN</td>\n",
       "      <td>16000000</td>\n",
       "      <td>[{'id': 35, 'name': 'Comedy'}, {'id': 18, 'nam...</td>\n",
       "      <td>NaN</td>\n",
       "      <td>31357</td>\n",
       "      <td>tt0114885</td>\n",
       "      <td>en</td>\n",
       "      <td>Waiting to Exhale</td>\n",
       "      <td>Cheated on, mistreated and stepped on, the wom...</td>\n",
       "      <td>...</td>\n",
       "      <td>1995-12-22</td>\n",
       "      <td>81452156.0</td>\n",
       "      <td>127.0</td>\n",
       "      <td>[{'iso_639_1': 'en', 'name': 'English'}]</td>\n",
       "      <td>Released</td>\n",
       "      <td>Friends are the people who let you be yourself...</td>\n",
       "      <td>Waiting to Exhale</td>\n",
       "      <td>False</td>\n",
       "      <td>6.1</td>\n",
       "      <td>34.0</td>\n",
       "    </tr>\n",
       "    <tr>\n",
       "      <th>4</th>\n",
       "      <td>False</td>\n",
       "      <td>{'id': 96871, 'name': 'Father of the Bride Col...</td>\n",
       "      <td>0</td>\n",
       "      <td>[{'id': 35, 'name': 'Comedy'}]</td>\n",
       "      <td>NaN</td>\n",
       "      <td>11862</td>\n",
       "      <td>tt0113041</td>\n",
       "      <td>en</td>\n",
       "      <td>Father of the Bride Part II</td>\n",
       "      <td>Just when George Banks has recovered from his ...</td>\n",
       "      <td>...</td>\n",
       "      <td>1995-02-10</td>\n",
       "      <td>76578911.0</td>\n",
       "      <td>106.0</td>\n",
       "      <td>[{'iso_639_1': 'en', 'name': 'English'}]</td>\n",
       "      <td>Released</td>\n",
       "      <td>Just When His World Is Back To Normal... He's ...</td>\n",
       "      <td>Father of the Bride Part II</td>\n",
       "      <td>False</td>\n",
       "      <td>5.7</td>\n",
       "      <td>173.0</td>\n",
       "    </tr>\n",
       "  </tbody>\n",
       "</table>\n",
       "<p>5 rows × 24 columns</p>\n",
       "</div>"
      ],
      "text/plain": [
       "   adult                              belongs_to_collection    budget  \\\n",
       "0  False  {'id': 10194, 'name': 'Toy Story Collection', ...  30000000   \n",
       "1  False                                                NaN  65000000   \n",
       "2  False  {'id': 119050, 'name': 'Grumpy Old Men Collect...         0   \n",
       "3  False                                                NaN  16000000   \n",
       "4  False  {'id': 96871, 'name': 'Father of the Bride Col...         0   \n",
       "\n",
       "                                              genres  \\\n",
       "0  [{'id': 16, 'name': 'Animation'}, {'id': 35, '...   \n",
       "1  [{'id': 12, 'name': 'Adventure'}, {'id': 14, '...   \n",
       "2  [{'id': 10749, 'name': 'Romance'}, {'id': 35, ...   \n",
       "3  [{'id': 35, 'name': 'Comedy'}, {'id': 18, 'nam...   \n",
       "4                     [{'id': 35, 'name': 'Comedy'}]   \n",
       "\n",
       "                               homepage     id    imdb_id original_language  \\\n",
       "0  http://toystory.disney.com/toy-story    862  tt0114709                en   \n",
       "1                                   NaN   8844  tt0113497                en   \n",
       "2                                   NaN  15602  tt0113228                en   \n",
       "3                                   NaN  31357  tt0114885                en   \n",
       "4                                   NaN  11862  tt0113041                en   \n",
       "\n",
       "                original_title  \\\n",
       "0                    Toy Story   \n",
       "1                      Jumanji   \n",
       "2             Grumpier Old Men   \n",
       "3            Waiting to Exhale   \n",
       "4  Father of the Bride Part II   \n",
       "\n",
       "                                            overview  ... release_date  \\\n",
       "0  Led by Woody, Andy's toys live happily in his ...  ...   1995-10-30   \n",
       "1  When siblings Judy and Peter discover an encha...  ...   1995-12-15   \n",
       "2  A family wedding reignites the ancient feud be...  ...   1995-12-22   \n",
       "3  Cheated on, mistreated and stepped on, the wom...  ...   1995-12-22   \n",
       "4  Just when George Banks has recovered from his ...  ...   1995-02-10   \n",
       "\n",
       "       revenue runtime                                   spoken_languages  \\\n",
       "0  373554033.0    81.0           [{'iso_639_1': 'en', 'name': 'English'}]   \n",
       "1  262797249.0   104.0  [{'iso_639_1': 'en', 'name': 'English'}, {'iso...   \n",
       "2          0.0   101.0           [{'iso_639_1': 'en', 'name': 'English'}]   \n",
       "3   81452156.0   127.0           [{'iso_639_1': 'en', 'name': 'English'}]   \n",
       "4   76578911.0   106.0           [{'iso_639_1': 'en', 'name': 'English'}]   \n",
       "\n",
       "     status                                            tagline  \\\n",
       "0  Released                                                NaN   \n",
       "1  Released          Roll the dice and unleash the excitement!   \n",
       "2  Released  Still Yelling. Still Fighting. Still Ready for...   \n",
       "3  Released  Friends are the people who let you be yourself...   \n",
       "4  Released  Just When His World Is Back To Normal... He's ...   \n",
       "\n",
       "                         title  video vote_average vote_count  \n",
       "0                    Toy Story  False          7.7     5415.0  \n",
       "1                      Jumanji  False          6.9     2413.0  \n",
       "2             Grumpier Old Men  False          6.5       92.0  \n",
       "3            Waiting to Exhale  False          6.1       34.0  \n",
       "4  Father of the Bride Part II  False          5.7      173.0  \n",
       "\n",
       "[5 rows x 24 columns]"
      ]
     },
     "execution_count": 78,
     "metadata": {},
     "output_type": "execute_result"
    }
   ],
   "source": [
    "df.head()"
   ]
  },
  {
   "cell_type": "code",
   "execution_count": 79,
   "id": "b18bb010-1b0d-4e24-89f8-e5e981f371e8",
   "metadata": {},
   "outputs": [
    {
     "name": "stdout",
     "output_type": "stream",
     "text": [
      "<class 'pandas.core.frame.DataFrame'>\n",
      "RangeIndex: 45466 entries, 0 to 45465\n",
      "Data columns (total 24 columns):\n",
      " #   Column                 Non-Null Count  Dtype  \n",
      "---  ------                 --------------  -----  \n",
      " 0   adult                  45466 non-null  object \n",
      " 1   belongs_to_collection  4494 non-null   object \n",
      " 2   budget                 45466 non-null  object \n",
      " 3   genres                 45466 non-null  object \n",
      " 4   homepage               7782 non-null   object \n",
      " 5   id                     45466 non-null  object \n",
      " 6   imdb_id                45449 non-null  object \n",
      " 7   original_language      45455 non-null  object \n",
      " 8   original_title         45466 non-null  object \n",
      " 9   overview               44512 non-null  object \n",
      " 10  popularity             45461 non-null  object \n",
      " 11  poster_path            45080 non-null  object \n",
      " 12  production_companies   45463 non-null  object \n",
      " 13  production_countries   45463 non-null  object \n",
      " 14  release_date           45379 non-null  object \n",
      " 15  revenue                45460 non-null  float64\n",
      " 16  runtime                45203 non-null  float64\n",
      " 17  spoken_languages       45460 non-null  object \n",
      " 18  status                 45379 non-null  object \n",
      " 19  tagline                20412 non-null  object \n",
      " 20  title                  45460 non-null  object \n",
      " 21  video                  45460 non-null  object \n",
      " 22  vote_average           45460 non-null  float64\n",
      " 23  vote_count             45460 non-null  float64\n",
      "dtypes: float64(4), object(20)\n",
      "memory usage: 8.3+ MB\n"
     ]
    }
   ],
   "source": [
    "df.info()"
   ]
  },
  {
   "cell_type": "code",
   "execution_count": 80,
   "id": "9e612dfc-283b-48e3-a44f-635d69144a85",
   "metadata": {},
   "outputs": [
    {
     "data": {
      "text/plain": [
       "belongs_to_collection    40972\n",
       "homepage                 37684\n",
       "tagline                  25054\n",
       "overview                   954\n",
       "poster_path                386\n",
       "runtime                    263\n",
       "status                      87\n",
       "release_date                87\n",
       "imdb_id                     17\n",
       "original_language           11\n",
       "spoken_languages             6\n",
       "title                        6\n",
       "video                        6\n",
       "vote_average                 6\n",
       "revenue                      6\n",
       "vote_count                   6\n",
       "popularity                   5\n",
       "production_companies         3\n",
       "production_countries         3\n",
       "original_title               0\n",
       "id                           0\n",
       "genres                       0\n",
       "budget                       0\n",
       "adult                        0\n",
       "dtype: int64"
      ]
     },
     "execution_count": 80,
     "metadata": {},
     "output_type": "execute_result"
    }
   ],
   "source": [
    "df.isnull().sum(axis=0).sort_values(ascending=False)"
   ]
  },
  {
   "cell_type": "code",
   "execution_count": 81,
   "id": "e13ae517-8706-49f7-917e-198873424468",
   "metadata": {},
   "outputs": [],
   "source": [
    "df=df[['genres','overview','title','id','imdb_id','vote_average','vote_count','release_date']]"
   ]
  },
  {
   "cell_type": "code",
   "execution_count": 82,
   "id": "ed325904-89ba-4bb7-a55a-921819ffdf58",
   "metadata": {},
   "outputs": [],
   "source": [
    "df=df.dropna(subset=['imdb_id','release_date','title','overview'],axis=0)\n"
   ]
  },
  {
   "cell_type": "code",
   "execution_count": 83,
   "id": "32ac60ab-fb6d-4ca1-a0ca-2d0d80fd1a12",
   "metadata": {},
   "outputs": [
    {
     "data": {
      "text/plain": [
       "genres          0\n",
       "overview        0\n",
       "title           0\n",
       "id              0\n",
       "imdb_id         0\n",
       "vote_average    0\n",
       "vote_count      0\n",
       "release_date    0\n",
       "dtype: int64"
      ]
     },
     "execution_count": 83,
     "metadata": {},
     "output_type": "execute_result"
    }
   ],
   "source": [
    "df.isnull().sum(axis=0).sort_values(ascending=False)"
   ]
  },
  {
   "cell_type": "code",
   "execution_count": 84,
   "id": "764ba09a-6c27-427d-a9c5-72c6e19b3742",
   "metadata": {},
   "outputs": [
    {
     "data": {
      "text/html": [
       "<div>\n",
       "<style scoped>\n",
       "    .dataframe tbody tr th:only-of-type {\n",
       "        vertical-align: middle;\n",
       "    }\n",
       "\n",
       "    .dataframe tbody tr th {\n",
       "        vertical-align: top;\n",
       "    }\n",
       "\n",
       "    .dataframe thead th {\n",
       "        text-align: right;\n",
       "    }\n",
       "</style>\n",
       "<table border=\"1\" class=\"dataframe\">\n",
       "  <thead>\n",
       "    <tr style=\"text-align: right;\">\n",
       "      <th></th>\n",
       "      <th>count</th>\n",
       "      <th>mean</th>\n",
       "      <th>std</th>\n",
       "      <th>min</th>\n",
       "      <th>25%</th>\n",
       "      <th>50%</th>\n",
       "      <th>75%</th>\n",
       "      <th>max</th>\n",
       "    </tr>\n",
       "  </thead>\n",
       "  <tbody>\n",
       "    <tr>\n",
       "      <th>vote_average</th>\n",
       "      <td>44423.0</td>\n",
       "      <td>5.644162</td>\n",
       "      <td>1.888368</td>\n",
       "      <td>0.0</td>\n",
       "      <td>5.0</td>\n",
       "      <td>6.0</td>\n",
       "      <td>6.8</td>\n",
       "      <td>10.0</td>\n",
       "    </tr>\n",
       "    <tr>\n",
       "      <th>vote_count</th>\n",
       "      <td>44423.0</td>\n",
       "      <td>112.267181</td>\n",
       "      <td>496.752403</td>\n",
       "      <td>0.0</td>\n",
       "      <td>3.0</td>\n",
       "      <td>10.0</td>\n",
       "      <td>35.0</td>\n",
       "      <td>14075.0</td>\n",
       "    </tr>\n",
       "  </tbody>\n",
       "</table>\n",
       "</div>"
      ],
      "text/plain": [
       "                count        mean         std  min  25%   50%   75%      max\n",
       "vote_average  44423.0    5.644162    1.888368  0.0  5.0   6.0   6.8     10.0\n",
       "vote_count    44423.0  112.267181  496.752403  0.0  3.0  10.0  35.0  14075.0"
      ]
     },
     "execution_count": 84,
     "metadata": {},
     "output_type": "execute_result"
    }
   ],
   "source": [
    "df.describe().transpose()"
   ]
  },
  {
   "cell_type": "code",
   "execution_count": 85,
   "id": "f54f6534-c34c-4ce3-b0ca-115d4bdb3640",
   "metadata": {},
   "outputs": [],
   "source": [
    "df['imdb_id']=df['imdb_id'].str.extract(r'(\\d+)').astype('int').astype('str')"
   ]
  },
  {
   "cell_type": "code",
   "execution_count": 86,
   "id": "b82496b4-fa5d-4985-ab2a-839be5a8a257",
   "metadata": {},
   "outputs": [
    {
     "data": {
      "text/plain": [
       "0    114709\n",
       "1    113497\n",
       "2    113228\n",
       "3    114885\n",
       "4    113041\n",
       "Name: imdb_id, dtype: object"
      ]
     },
     "execution_count": 86,
     "metadata": {},
     "output_type": "execute_result"
    }
   ],
   "source": [
    "df.imdb_id.head()"
   ]
  },
  {
   "cell_type": "code",
   "execution_count": 87,
   "id": "ff9b6337-8d4b-4e72-9f76-8d41cf20de4f",
   "metadata": {},
   "outputs": [
    {
     "data": {
      "text/html": [
       "<div>\n",
       "<style scoped>\n",
       "    .dataframe tbody tr th:only-of-type {\n",
       "        vertical-align: middle;\n",
       "    }\n",
       "\n",
       "    .dataframe tbody tr th {\n",
       "        vertical-align: top;\n",
       "    }\n",
       "\n",
       "    .dataframe thead th {\n",
       "        text-align: right;\n",
       "    }\n",
       "</style>\n",
       "<table border=\"1\" class=\"dataframe\">\n",
       "  <thead>\n",
       "    <tr style=\"text-align: right;\">\n",
       "      <th></th>\n",
       "      <th>genres</th>\n",
       "      <th>overview</th>\n",
       "      <th>title</th>\n",
       "      <th>id</th>\n",
       "      <th>imdb_id</th>\n",
       "      <th>vote_average</th>\n",
       "      <th>vote_count</th>\n",
       "      <th>release_date</th>\n",
       "    </tr>\n",
       "  </thead>\n",
       "  <tbody>\n",
       "    <tr>\n",
       "      <th>0</th>\n",
       "      <td>[{'id': 16, 'name': 'Animation'}, {'id': 35, '...</td>\n",
       "      <td>Led by Woody, Andy's toys live happily in his ...</td>\n",
       "      <td>Toy Story</td>\n",
       "      <td>862</td>\n",
       "      <td>114709</td>\n",
       "      <td>7.7</td>\n",
       "      <td>5415.0</td>\n",
       "      <td>1995-10-30</td>\n",
       "    </tr>\n",
       "    <tr>\n",
       "      <th>1</th>\n",
       "      <td>[{'id': 12, 'name': 'Adventure'}, {'id': 14, '...</td>\n",
       "      <td>When siblings Judy and Peter discover an encha...</td>\n",
       "      <td>Jumanji</td>\n",
       "      <td>8844</td>\n",
       "      <td>113497</td>\n",
       "      <td>6.9</td>\n",
       "      <td>2413.0</td>\n",
       "      <td>1995-12-15</td>\n",
       "    </tr>\n",
       "    <tr>\n",
       "      <th>2</th>\n",
       "      <td>[{'id': 10749, 'name': 'Romance'}, {'id': 35, ...</td>\n",
       "      <td>A family wedding reignites the ancient feud be...</td>\n",
       "      <td>Grumpier Old Men</td>\n",
       "      <td>15602</td>\n",
       "      <td>113228</td>\n",
       "      <td>6.5</td>\n",
       "      <td>92.0</td>\n",
       "      <td>1995-12-22</td>\n",
       "    </tr>\n",
       "    <tr>\n",
       "      <th>3</th>\n",
       "      <td>[{'id': 35, 'name': 'Comedy'}, {'id': 18, 'nam...</td>\n",
       "      <td>Cheated on, mistreated and stepped on, the wom...</td>\n",
       "      <td>Waiting to Exhale</td>\n",
       "      <td>31357</td>\n",
       "      <td>114885</td>\n",
       "      <td>6.1</td>\n",
       "      <td>34.0</td>\n",
       "      <td>1995-12-22</td>\n",
       "    </tr>\n",
       "    <tr>\n",
       "      <th>4</th>\n",
       "      <td>[{'id': 35, 'name': 'Comedy'}]</td>\n",
       "      <td>Just when George Banks has recovered from his ...</td>\n",
       "      <td>Father of the Bride Part II</td>\n",
       "      <td>11862</td>\n",
       "      <td>113041</td>\n",
       "      <td>5.7</td>\n",
       "      <td>173.0</td>\n",
       "      <td>1995-02-10</td>\n",
       "    </tr>\n",
       "  </tbody>\n",
       "</table>\n",
       "</div>"
      ],
      "text/plain": [
       "                                              genres  \\\n",
       "0  [{'id': 16, 'name': 'Animation'}, {'id': 35, '...   \n",
       "1  [{'id': 12, 'name': 'Adventure'}, {'id': 14, '...   \n",
       "2  [{'id': 10749, 'name': 'Romance'}, {'id': 35, ...   \n",
       "3  [{'id': 35, 'name': 'Comedy'}, {'id': 18, 'nam...   \n",
       "4                     [{'id': 35, 'name': 'Comedy'}]   \n",
       "\n",
       "                                            overview  \\\n",
       "0  Led by Woody, Andy's toys live happily in his ...   \n",
       "1  When siblings Judy and Peter discover an encha...   \n",
       "2  A family wedding reignites the ancient feud be...   \n",
       "3  Cheated on, mistreated and stepped on, the wom...   \n",
       "4  Just when George Banks has recovered from his ...   \n",
       "\n",
       "                         title     id imdb_id  vote_average  vote_count  \\\n",
       "0                    Toy Story    862  114709           7.7      5415.0   \n",
       "1                      Jumanji   8844  113497           6.9      2413.0   \n",
       "2             Grumpier Old Men  15602  113228           6.5        92.0   \n",
       "3            Waiting to Exhale  31357  114885           6.1        34.0   \n",
       "4  Father of the Bride Part II  11862  113041           5.7       173.0   \n",
       "\n",
       "  release_date  \n",
       "0   1995-10-30  \n",
       "1   1995-12-15  \n",
       "2   1995-12-22  \n",
       "3   1995-12-22  \n",
       "4   1995-02-10  "
      ]
     },
     "execution_count": 87,
     "metadata": {},
     "output_type": "execute_result"
    }
   ],
   "source": [
    "df.head()"
   ]
  },
  {
   "cell_type": "code",
   "execution_count": 88,
   "id": "04b4d731-914d-4d56-8eb9-c1ca11def9ca",
   "metadata": {},
   "outputs": [
    {
     "data": {
      "text/plain": [
       "0    1995-10-30\n",
       "1    1995-12-15\n",
       "2    1995-12-22\n",
       "3    1995-12-22\n",
       "4    1995-02-10\n",
       "Name: release_date, dtype: object"
      ]
     },
     "execution_count": 88,
     "metadata": {},
     "output_type": "execute_result"
    }
   ],
   "source": [
    "df['release_date'].head()"
   ]
  },
  {
   "cell_type": "code",
   "execution_count": 89,
   "id": "f84ab9e8-1bd0-45f0-a859-6db70cc44e91",
   "metadata": {},
   "outputs": [
    {
     "data": {
      "text/plain": [
       "dtype('O')"
      ]
     },
     "execution_count": 89,
     "metadata": {},
     "output_type": "execute_result"
    }
   ],
   "source": [
    "df['release_date'].dtype"
   ]
  },
  {
   "cell_type": "code",
   "execution_count": 90,
   "id": "e215f2a1-bc7b-4af1-80f6-fd177ec905e0",
   "metadata": {},
   "outputs": [],
   "source": [
    "df['release_date']=pd.to_datetime(df.release_date,format='%Y-%m-%d')"
   ]
  },
  {
   "cell_type": "code",
   "execution_count": 91,
   "id": "effee3fd-90f3-4f0e-b883-18321ba5b3a8",
   "metadata": {},
   "outputs": [],
   "source": [
    "df.insert(loc=5,column='year',value=df.release_date.dt.year)"
   ]
  },
  {
   "cell_type": "code",
   "execution_count": 92,
   "id": "5ed27399-f5c8-4b0c-b9e8-ebc9c9f847fb",
   "metadata": {},
   "outputs": [
    {
     "data": {
      "text/plain": [
       "0    1995\n",
       "1    1995\n",
       "2    1995\n",
       "3    1995\n",
       "4    1995\n",
       "Name: year, dtype: int32"
      ]
     },
     "execution_count": 92,
     "metadata": {},
     "output_type": "execute_result"
    }
   ],
   "source": [
    "df.year.head()"
   ]
  },
  {
   "cell_type": "code",
   "execution_count": 93,
   "id": "2a7fbc11-e3ae-472a-83c1-28cc13f8140e",
   "metadata": {},
   "outputs": [],
   "source": [
    "df=df.drop('release_date',axis=1)"
   ]
  },
  {
   "cell_type": "code",
   "execution_count": 94,
   "id": "2711c7e3-c2fa-4039-89cb-889a79063db4",
   "metadata": {},
   "outputs": [
    {
     "data": {
      "text/plain": [
       "\"[{'id': 18, 'name': 'Drama'}, {'id': 9648, 'name': 'Mystery'}, {'id': 878, 'name': 'Science Fiction'}, {'id': 53, 'name': 'Thriller'}]\""
      ]
     },
     "execution_count": 94,
     "metadata": {},
     "output_type": "execute_result"
    }
   ],
   "source": [
    "df.iloc[100].genres"
   ]
  },
  {
   "cell_type": "code",
   "execution_count": 95,
   "id": "8c86aa28-8857-4b87-b17f-064326dab40b",
   "metadata": {},
   "outputs": [],
   "source": [
    "df.genres=df.genres.apply(literal_eval)"
   ]
  },
  {
   "cell_type": "code",
   "execution_count": 96,
   "id": "5c7c6568-409d-461f-89fa-292358c84cd5",
   "metadata": {},
   "outputs": [
    {
     "data": {
      "text/plain": [
       "0    [{'id': 16, 'name': 'Animation'}, {'id': 35, '...\n",
       "1    [{'id': 12, 'name': 'Adventure'}, {'id': 14, '...\n",
       "2    [{'id': 10749, 'name': 'Romance'}, {'id': 35, ...\n",
       "3    [{'id': 35, 'name': 'Comedy'}, {'id': 18, 'nam...\n",
       "4                       [{'id': 35, 'name': 'Comedy'}]\n",
       "Name: genres, dtype: object"
      ]
     },
     "execution_count": 96,
     "metadata": {},
     "output_type": "execute_result"
    }
   ],
   "source": [
    "df.genres.head()"
   ]
  },
  {
   "cell_type": "code",
   "execution_count": 97,
   "id": "7df6de3a-1e62-4707-8f6e-d354da554816",
   "metadata": {},
   "outputs": [],
   "source": [
    "df['genres']=df.genres.apply(lambda x:[i['name'].lower() for i in x] if isinstance(x,list) else [])"
   ]
  },
  {
   "cell_type": "code",
   "execution_count": 98,
   "id": "65cef17d-35a6-4d44-b23b-057737dc2148",
   "metadata": {},
   "outputs": [
    {
     "data": {
      "text/plain": [
       "0        5415.0\n",
       "1        2413.0\n",
       "2          92.0\n",
       "3          34.0\n",
       "4         173.0\n",
       "          ...  \n",
       "45460      26.0\n",
       "45462       3.0\n",
       "45463       6.0\n",
       "45464       0.0\n",
       "45465       0.0\n",
       "Name: vote_count, Length: 44423, dtype: float64"
      ]
     },
     "execution_count": 98,
     "metadata": {},
     "output_type": "execute_result"
    }
   ],
   "source": [
    "df.vote_count"
   ]
  },
  {
   "cell_type": "code",
   "execution_count": 99,
   "id": "d7501e7c-56ab-4e13-a7d4-b2b22d60b885",
   "metadata": {},
   "outputs": [
    {
     "name": "stdout",
     "output_type": "stream",
     "text": [
      "vote_average\n",
      "10.0    179\n",
      "9.5      18\n",
      "9.3      16\n",
      "9.2       4\n",
      "9.4       3\n",
      "Name: count, dtype: int64\n"
     ]
    }
   ],
   "source": [
    "a=df[df['vote_average']>9]['vote_average'].value_counts()\n",
    "print(a.head())#vote average is mildly impotent as it favors movies with higher vote count "
   ]
  },
  {
   "cell_type": "code",
   "execution_count": 100,
   "id": "ae5b39a7-bf60-4701-b7e2-6b75f7d2a372",
   "metadata": {},
   "outputs": [
    {
     "name": "stdout",
     "output_type": "stream",
     "text": [
      "vote_average\n",
      "False    ([5415.0, 2413.0, 92.0, 34.0, 173.0, 1886.0, 1...\n",
      "True     ([1.0, 1.0, 1.0, 1.0, 1.0, 1.0, 1.0, 2.0, 1.0,...\n",
      "dtype: object\n"
     ]
    }
   ],
   "source": [
    "b = df.groupby(df['vote_average'] > 9).apply(lambda x: (x['vote_count'], x.index))\n",
    "print(b)"
   ]
  },
  {
   "cell_type": "code",
   "execution_count": 101,
   "id": "dbac71d3-4486-4241-aa9c-65727a862a6d",
   "metadata": {},
   "outputs": [
    {
     "data": {
      "text/plain": [
       "'WR=(v/v+m)*r+(m/m+v)*c'"
      ]
     },
     "execution_count": 101,
     "metadata": {},
     "output_type": "execute_result"
    }
   ],
   "source": [
    "#As forth weighted rating is opted to solve this problem\n",
    "'''WR=(v/v+m)*r+(m/m+v)*c'''"
   ]
  },
  {
   "cell_type": "code",
   "execution_count": 102,
   "id": "2275c709-3ca2-4c3c-96ab-e7ca2a4e931c",
   "metadata": {},
   "outputs": [],
   "source": [
    "c=df['vote_average'].mean()\n",
    "m=df.vote_count.quantile(0.90)"
   ]
  },
  {
   "cell_type": "code",
   "execution_count": 103,
   "id": "27516137-5fa2-40ed-a341-e49a6956161b",
   "metadata": {},
   "outputs": [],
   "source": [
    "def WR(x,C=c,m=m):\n",
    "    v = x['vote_count']\n",
    "    R = x['vote_average']\n",
    "    return (v / (v + m) * R) + (m / (v + m) * C)"
   ]
  },
  {
   "cell_type": "code",
   "execution_count": 104,
   "id": "faa49385-89c9-4d9f-b310-885e8da25dc8",
   "metadata": {},
   "outputs": [],
   "source": [
    "df.insert(loc=1,column='Weighted_Rating',value=WR(df))"
   ]
  },
  {
   "cell_type": "code",
   "execution_count": 105,
   "id": "5a6dc674-6630-40a9-93a5-8e73b3e5ae8c",
   "metadata": {},
   "outputs": [
    {
     "data": {
      "text/plain": [
       "0        7.639209\n",
       "1        6.819622\n",
       "2        5.950532\n",
       "3        5.722044\n",
       "4        5.672742\n",
       "           ...   \n",
       "45460    5.651763\n",
       "45462    5.704087\n",
       "45463    5.579454\n",
       "45464    5.644162\n",
       "45465    5.644162\n",
       "Name: Weighted_Rating, Length: 44423, dtype: float64"
      ]
     },
     "execution_count": 105,
     "metadata": {},
     "output_type": "execute_result"
    }
   ],
   "source": [
    "df.Weighted_Rating"
   ]
  },
  {
   "cell_type": "code",
   "execution_count": 106,
   "id": "4656d14e-3fdd-4c54-a3be-2465ad2002c0",
   "metadata": {},
   "outputs": [
    {
     "data": {
      "text/html": [
       "<div>\n",
       "<style scoped>\n",
       "    .dataframe tbody tr th:only-of-type {\n",
       "        vertical-align: middle;\n",
       "    }\n",
       "\n",
       "    .dataframe tbody tr th {\n",
       "        vertical-align: top;\n",
       "    }\n",
       "\n",
       "    .dataframe thead th {\n",
       "        text-align: right;\n",
       "    }\n",
       "</style>\n",
       "<table border=\"1\" class=\"dataframe\">\n",
       "  <thead>\n",
       "    <tr style=\"text-align: right;\">\n",
       "      <th></th>\n",
       "      <th>genres</th>\n",
       "      <th>Weighted_Rating</th>\n",
       "      <th>overview</th>\n",
       "      <th>title</th>\n",
       "      <th>id</th>\n",
       "      <th>imdbId</th>\n",
       "      <th>year</th>\n",
       "      <th>vote_average</th>\n",
       "      <th>vote_count</th>\n",
       "    </tr>\n",
       "  </thead>\n",
       "  <tbody>\n",
       "    <tr>\n",
       "      <th>0</th>\n",
       "      <td>[animation, comedy, family]</td>\n",
       "      <td>7.639209</td>\n",
       "      <td>Led by Woody, Andy's toys live happily in his ...</td>\n",
       "      <td>Toy Story</td>\n",
       "      <td>862</td>\n",
       "      <td>114709</td>\n",
       "      <td>1995</td>\n",
       "      <td>7.7</td>\n",
       "      <td>5415.0</td>\n",
       "    </tr>\n",
       "    <tr>\n",
       "      <th>1</th>\n",
       "      <td>[adventure, fantasy, family]</td>\n",
       "      <td>6.819622</td>\n",
       "      <td>When siblings Judy and Peter discover an encha...</td>\n",
       "      <td>Jumanji</td>\n",
       "      <td>8844</td>\n",
       "      <td>113497</td>\n",
       "      <td>1995</td>\n",
       "      <td>6.9</td>\n",
       "      <td>2413.0</td>\n",
       "    </tr>\n",
       "    <tr>\n",
       "      <th>2</th>\n",
       "      <td>[romance, comedy]</td>\n",
       "      <td>5.950532</td>\n",
       "      <td>A family wedding reignites the ancient feud be...</td>\n",
       "      <td>Grumpier Old Men</td>\n",
       "      <td>15602</td>\n",
       "      <td>113228</td>\n",
       "      <td>1995</td>\n",
       "      <td>6.5</td>\n",
       "      <td>92.0</td>\n",
       "    </tr>\n",
       "    <tr>\n",
       "      <th>3</th>\n",
       "      <td>[comedy, drama, romance]</td>\n",
       "      <td>5.722044</td>\n",
       "      <td>Cheated on, mistreated and stepped on, the wom...</td>\n",
       "      <td>Waiting to Exhale</td>\n",
       "      <td>31357</td>\n",
       "      <td>114885</td>\n",
       "      <td>1995</td>\n",
       "      <td>6.1</td>\n",
       "      <td>34.0</td>\n",
       "    </tr>\n",
       "    <tr>\n",
       "      <th>4</th>\n",
       "      <td>[comedy]</td>\n",
       "      <td>5.672742</td>\n",
       "      <td>Just when George Banks has recovered from his ...</td>\n",
       "      <td>Father of the Bride Part II</td>\n",
       "      <td>11862</td>\n",
       "      <td>113041</td>\n",
       "      <td>1995</td>\n",
       "      <td>5.7</td>\n",
       "      <td>173.0</td>\n",
       "    </tr>\n",
       "  </tbody>\n",
       "</table>\n",
       "</div>"
      ],
      "text/plain": [
       "                         genres  Weighted_Rating  \\\n",
       "0   [animation, comedy, family]         7.639209   \n",
       "1  [adventure, fantasy, family]         6.819622   \n",
       "2             [romance, comedy]         5.950532   \n",
       "3      [comedy, drama, romance]         5.722044   \n",
       "4                      [comedy]         5.672742   \n",
       "\n",
       "                                            overview  \\\n",
       "0  Led by Woody, Andy's toys live happily in his ...   \n",
       "1  When siblings Judy and Peter discover an encha...   \n",
       "2  A family wedding reignites the ancient feud be...   \n",
       "3  Cheated on, mistreated and stepped on, the wom...   \n",
       "4  Just when George Banks has recovered from his ...   \n",
       "\n",
       "                         title     id  imdbId  year  vote_average  vote_count  \n",
       "0                    Toy Story    862  114709  1995           7.7      5415.0  \n",
       "1                      Jumanji   8844  113497  1995           6.9      2413.0  \n",
       "2             Grumpier Old Men  15602  113228  1995           6.5        92.0  \n",
       "3            Waiting to Exhale  31357  114885  1995           6.1        34.0  \n",
       "4  Father of the Bride Part II  11862  113041  1995           5.7       173.0  "
      ]
     },
     "execution_count": 106,
     "metadata": {},
     "output_type": "execute_result"
    }
   ],
   "source": [
    "df = df.rename(columns={'imdb_id': 'imdbId'})\n",
    "df.head()"
   ]
  },
  {
   "cell_type": "code",
   "execution_count": 107,
   "id": "46b42751-63ea-4598-a636-3480cb147703",
   "metadata": {},
   "outputs": [
    {
     "data": {
      "text/plain": [
       "\"Widowed U.S. president Andrew Shepherd, one of the world's most powerful men, can have anything he wants -- and what he covets most is Sydney Ellen Wade, a Washington lobbyist. But Shepherd's attempts at courting her spark wild rumors and decimate his approval ratings.\""
      ]
     },
     "execution_count": 107,
     "metadata": {},
     "output_type": "execute_result"
    }
   ],
   "source": [
    "df.overview.iloc[10]"
   ]
  },
  {
   "cell_type": "code",
   "execution_count": 108,
   "id": "ffc6a19f-41f4-4d5a-9a40-3b82a38a9763",
   "metadata": {},
   "outputs": [],
   "source": [
    "genres_one_hot = df['genres'].str.join('|').str.get_dummies()\n"
   ]
  },
  {
   "cell_type": "code",
   "execution_count": 109,
   "id": "43a07b36-1ac5-4dab-aa25-4e8ec0f163d8",
   "metadata": {},
   "outputs": [],
   "source": [
    "genre_matrix=csr_matrix(genres_one_hot)"
   ]
  },
  {
   "cell_type": "code",
   "execution_count": 110,
   "id": "1b32a741-0b2d-4299-a3a5-0a9178744487",
   "metadata": {},
   "outputs": [],
   "source": [
    "tfidf = TfidfVectorizer(stop_words='english')\n",
    "tfidf_matrix = tfidf.fit_transform(df['overview'])\n",
    "tfidf_matrix=csr_matrix(tfidf_matrix)"
   ]
  },
  {
   "cell_type": "code",
   "execution_count": 111,
   "id": "302ff5b7-9469-436d-9187-c870d609c295",
   "metadata": {},
   "outputs": [],
   "source": [
    "num_neighbors = 5"
   ]
  },
  {
   "cell_type": "code",
   "execution_count": 112,
   "id": "344b3ce2-9cdf-41ce-b84d-d428ef4c9a86",
   "metadata": {},
   "outputs": [],
   "source": [
    "year_encoder = OneHotEncoder(sparse_output=True)\n",
    "year_one_hot = year_encoder.fit_transform(df[['year']])"
   ]
  },
  {
   "cell_type": "code",
   "execution_count": 136,
   "id": "36f2d2b7-ec92-4043-8d5c-e1f005a1a950",
   "metadata": {},
   "outputs": [],
   "source": [
    "rating_ohe=year_encoder.fit_transform(df[['Weighted_Rating']])"
   ]
  },
  {
   "cell_type": "code",
   "execution_count": 137,
   "id": "58d54dc2-c74b-47d0-9153-f0a9c2e83b58",
   "metadata": {},
   "outputs": [],
   "source": [
    "combined_features = hstack([csr_matrix(genres_one_hot), tfidf_matrix, year_one_hot,rating_ohe])"
   ]
  },
  {
   "cell_type": "code",
   "execution_count": 138,
   "id": "2d75daaa-91a9-4298-9fe5-ffe34fd15f8a",
   "metadata": {},
   "outputs": [],
   "source": [
    "nn = NearestNeighbors(n_neighbors=num_neighbors, metric='cosine').fit(combined_features)\n",
    "distances, indices = nn.kneighbors(combined_features)"
   ]
  },
  {
   "cell_type": "code",
   "execution_count": 142,
   "id": "036cf0c7-1443-43dc-9d37-727e26798906",
   "metadata": {},
   "outputs": [
    {
     "name": "stdout",
     "output_type": "stream",
     "text": [
      "[[    0   719 26868 15273  2977]\n",
      " [    1    58 40031   177  9624]\n",
      " [    2    50   176   273    66]\n",
      " ...\n",
      " [44420  9358  9429  9367  9352]\n",
      " [44421 27455 32956 41129 42179]\n",
      " [44422 41974 41883 43994 41589]]\n"
     ]
    }
   ],
   "source": [
    "print(indices)"
   ]
  },
  {
   "cell_type": "code",
   "execution_count": 139,
   "id": "68ce695e-6532-4dc9-9c97-b1f1cd476f3b",
   "metadata": {},
   "outputs": [],
   "source": [
    "def content_recommendations(title):\n",
    "\n",
    "    title = title.lower()\n",
    "    df['title'] = df['title'].str.lower()\n",
    "    \n",
    "    idx = df[df['title'] == title].index\n",
    "    \n",
    "    if len(idx) == 0:  \n",
    "        return \"Title not found\"\n",
    "    \n",
    "    idx = idx[0]  \n",
    "    \n",
    "    neighbor_indices = indices[idx]\n",
    "    \n",
    "    return df['title'].iloc[neighbor_indices]\n"
   ]
  },
  {
   "cell_type": "code",
   "execution_count": 140,
   "id": "9d516128-72fa-4db5-b46b-c989feb9d979",
   "metadata": {},
   "outputs": [
    {
     "data": {
      "text/plain": [
       "41751    perry mason: the case of the scandalous scoundrel\n",
       "25435                       flower and snake 5: rope magic\n",
       "36916                     never travel on a one way ticket\n",
       "20717                                    business as usual\n",
       "23101                                   season of monsters\n",
       "Name: title, dtype: object"
      ]
     },
     "execution_count": 140,
     "metadata": {},
     "output_type": "execute_result"
    }
   ],
   "source": [
    "content_recommendations('La la land')"
   ]
  },
  {
   "cell_type": "code",
   "execution_count": 117,
   "id": "d2569075-d82a-49cd-929e-a8434622d2e5",
   "metadata": {},
   "outputs": [],
   "source": [
    "ratings=rating.merge(ids,how='inner',on='movieId')"
   ]
  },
  {
   "cell_type": "code",
   "execution_count": 118,
   "id": "98c30642-d6b8-4fcf-9340-6e9f45b6a52e",
   "metadata": {},
   "outputs": [
    {
     "data": {
      "text/html": [
       "<div>\n",
       "<style scoped>\n",
       "    .dataframe tbody tr th:only-of-type {\n",
       "        vertical-align: middle;\n",
       "    }\n",
       "\n",
       "    .dataframe tbody tr th {\n",
       "        vertical-align: top;\n",
       "    }\n",
       "\n",
       "    .dataframe thead th {\n",
       "        text-align: right;\n",
       "    }\n",
       "</style>\n",
       "<table border=\"1\" class=\"dataframe\">\n",
       "  <thead>\n",
       "    <tr style=\"text-align: right;\">\n",
       "      <th></th>\n",
       "      <th>userId</th>\n",
       "      <th>movieId</th>\n",
       "      <th>rating</th>\n",
       "      <th>timestamp</th>\n",
       "      <th>imdbId</th>\n",
       "      <th>tmdbId</th>\n",
       "    </tr>\n",
       "  </thead>\n",
       "  <tbody>\n",
       "    <tr>\n",
       "      <th>0</th>\n",
       "      <td>1</td>\n",
       "      <td>31</td>\n",
       "      <td>2.5</td>\n",
       "      <td>1260759144</td>\n",
       "      <td>112792</td>\n",
       "      <td>9909.0</td>\n",
       "    </tr>\n",
       "    <tr>\n",
       "      <th>1</th>\n",
       "      <td>1</td>\n",
       "      <td>1029</td>\n",
       "      <td>3.0</td>\n",
       "      <td>1260759179</td>\n",
       "      <td>33563</td>\n",
       "      <td>11360.0</td>\n",
       "    </tr>\n",
       "    <tr>\n",
       "      <th>2</th>\n",
       "      <td>1</td>\n",
       "      <td>1061</td>\n",
       "      <td>3.0</td>\n",
       "      <td>1260759182</td>\n",
       "      <td>117665</td>\n",
       "      <td>819.0</td>\n",
       "    </tr>\n",
       "    <tr>\n",
       "      <th>3</th>\n",
       "      <td>1</td>\n",
       "      <td>1129</td>\n",
       "      <td>2.0</td>\n",
       "      <td>1260759185</td>\n",
       "      <td>82340</td>\n",
       "      <td>1103.0</td>\n",
       "    </tr>\n",
       "    <tr>\n",
       "      <th>4</th>\n",
       "      <td>1</td>\n",
       "      <td>1172</td>\n",
       "      <td>4.0</td>\n",
       "      <td>1260759205</td>\n",
       "      <td>95765</td>\n",
       "      <td>11216.0</td>\n",
       "    </tr>\n",
       "  </tbody>\n",
       "</table>\n",
       "</div>"
      ],
      "text/plain": [
       "   userId  movieId  rating   timestamp  imdbId   tmdbId\n",
       "0       1       31     2.5  1260759144  112792   9909.0\n",
       "1       1     1029     3.0  1260759179   33563  11360.0\n",
       "2       1     1061     3.0  1260759182  117665    819.0\n",
       "3       1     1129     2.0  1260759185   82340   1103.0\n",
       "4       1     1172     4.0  1260759205   95765  11216.0"
      ]
     },
     "execution_count": 118,
     "metadata": {},
     "output_type": "execute_result"
    }
   ],
   "source": [
    "ratings.head()"
   ]
  },
  {
   "cell_type": "code",
   "execution_count": 124,
   "id": "bbad9d00-b618-4dec-b969-db752e19dd8b",
   "metadata": {},
   "outputs": [
    {
     "name": "stdout",
     "output_type": "stream",
     "text": [
      "genres              object\n",
      "Weighted_Rating    float64\n",
      "overview            object\n",
      "title               object\n",
      "id                  object\n",
      "imdbId              object\n",
      "year                 int32\n",
      "vote_average       float64\n",
      "vote_count         float64\n",
      "dtype: object\n"
     ]
    }
   ],
   "source": [
    "print(df.dtypes)"
   ]
  },
  {
   "cell_type": "code",
   "execution_count": 125,
   "id": "0183dc9c-fdbf-45b4-98b6-3bdf90cd7c2a",
   "metadata": {},
   "outputs": [
    {
     "name": "stdout",
     "output_type": "stream",
     "text": [
      "userId         int64\n",
      "movieId        int64\n",
      "rating       float64\n",
      "timestamp      int64\n",
      "imdbId         int64\n",
      "tmdbId       float64\n",
      "dtype: object\n"
     ]
    }
   ],
   "source": [
    "print(ratings.dtypes)"
   ]
  },
  {
   "cell_type": "code",
   "execution_count": 126,
   "id": "7ac1901a-5093-4f10-8448-77eac98d448a",
   "metadata": {},
   "outputs": [],
   "source": [
    "df.imdbId=df.imdbId.astype('int')"
   ]
  },
  {
   "cell_type": "code",
   "execution_count": 127,
   "id": "da230b50-08e4-492e-b09c-44716374ef2c",
   "metadata": {},
   "outputs": [],
   "source": [
    "user=df.merge(ratings,how='inner',on='imdbId')"
   ]
  },
  {
   "cell_type": "code",
   "execution_count": 128,
   "id": "8372405c-1bc6-418a-988c-705f80ff2720",
   "metadata": {},
   "outputs": [
    {
     "data": {
      "text/html": [
       "<div>\n",
       "<style scoped>\n",
       "    .dataframe tbody tr th:only-of-type {\n",
       "        vertical-align: middle;\n",
       "    }\n",
       "\n",
       "    .dataframe tbody tr th {\n",
       "        vertical-align: top;\n",
       "    }\n",
       "\n",
       "    .dataframe thead th {\n",
       "        text-align: right;\n",
       "    }\n",
       "</style>\n",
       "<table border=\"1\" class=\"dataframe\">\n",
       "  <thead>\n",
       "    <tr style=\"text-align: right;\">\n",
       "      <th></th>\n",
       "      <th>genres</th>\n",
       "      <th>Weighted_Rating</th>\n",
       "      <th>overview</th>\n",
       "      <th>title</th>\n",
       "      <th>id</th>\n",
       "      <th>imdbId</th>\n",
       "      <th>year</th>\n",
       "      <th>vote_average</th>\n",
       "      <th>vote_count</th>\n",
       "      <th>userId</th>\n",
       "      <th>movieId</th>\n",
       "      <th>rating</th>\n",
       "      <th>timestamp</th>\n",
       "      <th>tmdbId</th>\n",
       "    </tr>\n",
       "  </thead>\n",
       "  <tbody>\n",
       "    <tr>\n",
       "      <th>0</th>\n",
       "      <td>[animation, comedy, family]</td>\n",
       "      <td>7.639209</td>\n",
       "      <td>Led by Woody, Andy's toys live happily in his ...</td>\n",
       "      <td>toy story</td>\n",
       "      <td>862</td>\n",
       "      <td>114709</td>\n",
       "      <td>1995</td>\n",
       "      <td>7.7</td>\n",
       "      <td>5415.0</td>\n",
       "      <td>7</td>\n",
       "      <td>1</td>\n",
       "      <td>3.0</td>\n",
       "      <td>851866703</td>\n",
       "      <td>862.0</td>\n",
       "    </tr>\n",
       "    <tr>\n",
       "      <th>1</th>\n",
       "      <td>[animation, comedy, family]</td>\n",
       "      <td>7.639209</td>\n",
       "      <td>Led by Woody, Andy's toys live happily in his ...</td>\n",
       "      <td>toy story</td>\n",
       "      <td>862</td>\n",
       "      <td>114709</td>\n",
       "      <td>1995</td>\n",
       "      <td>7.7</td>\n",
       "      <td>5415.0</td>\n",
       "      <td>9</td>\n",
       "      <td>1</td>\n",
       "      <td>4.0</td>\n",
       "      <td>938629179</td>\n",
       "      <td>862.0</td>\n",
       "    </tr>\n",
       "    <tr>\n",
       "      <th>2</th>\n",
       "      <td>[animation, comedy, family]</td>\n",
       "      <td>7.639209</td>\n",
       "      <td>Led by Woody, Andy's toys live happily in his ...</td>\n",
       "      <td>toy story</td>\n",
       "      <td>862</td>\n",
       "      <td>114709</td>\n",
       "      <td>1995</td>\n",
       "      <td>7.7</td>\n",
       "      <td>5415.0</td>\n",
       "      <td>13</td>\n",
       "      <td>1</td>\n",
       "      <td>5.0</td>\n",
       "      <td>1331380058</td>\n",
       "      <td>862.0</td>\n",
       "    </tr>\n",
       "    <tr>\n",
       "      <th>3</th>\n",
       "      <td>[animation, comedy, family]</td>\n",
       "      <td>7.639209</td>\n",
       "      <td>Led by Woody, Andy's toys live happily in his ...</td>\n",
       "      <td>toy story</td>\n",
       "      <td>862</td>\n",
       "      <td>114709</td>\n",
       "      <td>1995</td>\n",
       "      <td>7.7</td>\n",
       "      <td>5415.0</td>\n",
       "      <td>15</td>\n",
       "      <td>1</td>\n",
       "      <td>2.0</td>\n",
       "      <td>997938310</td>\n",
       "      <td>862.0</td>\n",
       "    </tr>\n",
       "    <tr>\n",
       "      <th>4</th>\n",
       "      <td>[animation, comedy, family]</td>\n",
       "      <td>7.639209</td>\n",
       "      <td>Led by Woody, Andy's toys live happily in his ...</td>\n",
       "      <td>toy story</td>\n",
       "      <td>862</td>\n",
       "      <td>114709</td>\n",
       "      <td>1995</td>\n",
       "      <td>7.7</td>\n",
       "      <td>5415.0</td>\n",
       "      <td>19</td>\n",
       "      <td>1</td>\n",
       "      <td>3.0</td>\n",
       "      <td>855190091</td>\n",
       "      <td>862.0</td>\n",
       "    </tr>\n",
       "  </tbody>\n",
       "</table>\n",
       "</div>"
      ],
      "text/plain": [
       "                        genres  Weighted_Rating  \\\n",
       "0  [animation, comedy, family]         7.639209   \n",
       "1  [animation, comedy, family]         7.639209   \n",
       "2  [animation, comedy, family]         7.639209   \n",
       "3  [animation, comedy, family]         7.639209   \n",
       "4  [animation, comedy, family]         7.639209   \n",
       "\n",
       "                                            overview      title   id  imdbId  \\\n",
       "0  Led by Woody, Andy's toys live happily in his ...  toy story  862  114709   \n",
       "1  Led by Woody, Andy's toys live happily in his ...  toy story  862  114709   \n",
       "2  Led by Woody, Andy's toys live happily in his ...  toy story  862  114709   \n",
       "3  Led by Woody, Andy's toys live happily in his ...  toy story  862  114709   \n",
       "4  Led by Woody, Andy's toys live happily in his ...  toy story  862  114709   \n",
       "\n",
       "   year  vote_average  vote_count  userId  movieId  rating   timestamp  tmdbId  \n",
       "0  1995           7.7      5415.0       7        1     3.0   851866703   862.0  \n",
       "1  1995           7.7      5415.0       9        1     4.0   938629179   862.0  \n",
       "2  1995           7.7      5415.0      13        1     5.0  1331380058   862.0  \n",
       "3  1995           7.7      5415.0      15        1     2.0   997938310   862.0  \n",
       "4  1995           7.7      5415.0      19        1     3.0   855190091   862.0  "
      ]
     },
     "execution_count": 128,
     "metadata": {},
     "output_type": "execute_result"
    }
   ],
   "source": [
    "user.head()"
   ]
  },
  {
   "cell_type": "code",
   "execution_count": 134,
   "id": "7fdcb345-788e-4088-8f1d-48be97e3875f",
   "metadata": {},
   "outputs": [],
   "source": [
    "user=user.sort_values(by='userId')"
   ]
  },
  {
   "cell_type": "code",
   "execution_count": 133,
   "id": "7ca96266-889e-4ea4-ac44-0eabe525625d",
   "metadata": {},
   "outputs": [
    {
     "data": {
      "text/plain": [
       "Index(['genres', 'Weighted_Rating', 'overview', 'title', 'id', 'imdbId',\n",
       "       'year', 'vote_average', 'vote_count', 'userId', 'movieId', 'rating',\n",
       "       'timestamp', 'tmdbId'],\n",
       "      dtype='object')"
      ]
     },
     "execution_count": 133,
     "metadata": {},
     "output_type": "execute_result"
    }
   ],
   "source": [
    "user.columns"
   ]
  },
  {
   "cell_type": "code",
   "execution_count": 143,
   "id": "c0cb6a46-ef2c-49a9-8fb2-4126857edbf8",
   "metadata": {},
   "outputs": [],
   "source": [
    "user=user[['genres','title','userId','movieId','rating','timestamp']]"
   ]
  },
  {
   "cell_type": "code",
   "execution_count": 166,
   "id": "f1a207d8-4ecd-4f71-b999-e3278c070bc8",
   "metadata": {},
   "outputs": [
    {
     "data": {
      "text/plain": [
       "247"
      ]
     },
     "execution_count": 166,
     "metadata": {},
     "output_type": "execute_result"
    }
   ],
   "source": [
    "(user.title==\"toy story\").sum()"
   ]
  },
  {
   "cell_type": "code",
   "execution_count": 144,
   "id": "abb5ea69-edde-49a2-b4e2-d9568208bf48",
   "metadata": {},
   "outputs": [
    {
     "data": {
      "text/html": [
       "<div>\n",
       "<style scoped>\n",
       "    .dataframe tbody tr th:only-of-type {\n",
       "        vertical-align: middle;\n",
       "    }\n",
       "\n",
       "    .dataframe tbody tr th {\n",
       "        vertical-align: top;\n",
       "    }\n",
       "\n",
       "    .dataframe thead th {\n",
       "        text-align: right;\n",
       "    }\n",
       "</style>\n",
       "<table border=\"1\" class=\"dataframe\">\n",
       "  <thead>\n",
       "    <tr style=\"text-align: right;\">\n",
       "      <th></th>\n",
       "      <th>genres</th>\n",
       "      <th>title</th>\n",
       "      <th>userId</th>\n",
       "      <th>movieId</th>\n",
       "      <th>rating</th>\n",
       "      <th>timestamp</th>\n",
       "    </tr>\n",
       "  </thead>\n",
       "  <tbody>\n",
       "    <tr>\n",
       "      <th>45677</th>\n",
       "      <td>[science fiction, action, adventure]</td>\n",
       "      <td>tron</td>\n",
       "      <td>1</td>\n",
       "      <td>2105</td>\n",
       "      <td>4.0</td>\n",
       "      <td>1260759139</td>\n",
       "    </tr>\n",
       "    <tr>\n",
       "      <th>27693</th>\n",
       "      <td>[drama, romance]</td>\n",
       "      <td>cinema paradiso</td>\n",
       "      <td>1</td>\n",
       "      <td>1172</td>\n",
       "      <td>4.0</td>\n",
       "      <td>1260759205</td>\n",
       "    </tr>\n",
       "    <tr>\n",
       "      <th>50538</th>\n",
       "      <td>[horror, science fiction]</td>\n",
       "      <td>the fly</td>\n",
       "      <td>1</td>\n",
       "      <td>2455</td>\n",
       "      <td>2.5</td>\n",
       "      <td>1260759113</td>\n",
       "    </tr>\n",
       "    <tr>\n",
       "      <th>47977</th>\n",
       "      <td>[adventure, animation, comedy, family]</td>\n",
       "      <td>antz</td>\n",
       "      <td>1</td>\n",
       "      <td>2294</td>\n",
       "      <td>2.0</td>\n",
       "      <td>1260759108</td>\n",
       "    </tr>\n",
       "    <tr>\n",
       "      <th>47047</th>\n",
       "      <td>[adventure, drama, action]</td>\n",
       "      <td>willow</td>\n",
       "      <td>1</td>\n",
       "      <td>2193</td>\n",
       "      <td>2.0</td>\n",
       "      <td>1260759198</td>\n",
       "    </tr>\n",
       "  </tbody>\n",
       "</table>\n",
       "</div>"
      ],
      "text/plain": [
       "                                       genres            title  userId  \\\n",
       "45677    [science fiction, action, adventure]             tron       1   \n",
       "27693                        [drama, romance]  cinema paradiso       1   \n",
       "50538               [horror, science fiction]          the fly       1   \n",
       "47977  [adventure, animation, comedy, family]             antz       1   \n",
       "47047              [adventure, drama, action]           willow       1   \n",
       "\n",
       "       movieId  rating   timestamp  \n",
       "45677     2105     4.0  1260759139  \n",
       "27693     1172     4.0  1260759205  \n",
       "50538     2455     2.5  1260759113  \n",
       "47977     2294     2.0  1260759108  \n",
       "47047     2193     2.0  1260759198  "
      ]
     },
     "execution_count": 144,
     "metadata": {},
     "output_type": "execute_result"
    }
   ],
   "source": [
    "user.head()"
   ]
  },
  {
   "cell_type": "code",
   "execution_count": 152,
   "id": "18e295a8-3ee7-4c9c-9fc9-6dd098ee96ea",
   "metadata": {},
   "outputs": [],
   "source": [
    "reader = Reader(rating_scale=(1, 5))\n",
    "data = Dataset.load_from_df(user[['userId', 'movieId', 'rating']], reader)\n"
   ]
  },
  {
   "cell_type": "code",
   "execution_count": 154,
   "id": "3210840f-f5f0-414e-8203-5e1e7f5b36a1",
   "metadata": {},
   "outputs": [],
   "source": [
    "trainset, testset = train_test_split(data, test_size=0.2,random_state=1000)\n"
   ]
  },
  {
   "cell_type": "code",
   "execution_count": 155,
   "id": "0d40c88c-2f92-4f0c-b373-e72fc6f3a6b5",
   "metadata": {},
   "outputs": [
    {
     "data": {
      "text/plain": [
       "<surprise.prediction_algorithms.matrix_factorization.SVD at 0x166eb24e0>"
      ]
     },
     "execution_count": 155,
     "metadata": {},
     "output_type": "execute_result"
    }
   ],
   "source": [
    "model = SVD()\n",
    "model.fit(trainset)"
   ]
  },
  {
   "cell_type": "code",
   "execution_count": 188,
   "id": "41fd32a0-c497-4ee7-ad1d-a032259e7707",
   "metadata": {},
   "outputs": [],
   "source": [
    "def collaborative_recommendations(user_id, title, user, model, top_n=5):\n",
    "\n",
    "    movie_row = user[user['title'] == title].drop_duplicates('movieId')\n",
    "    \n",
    "    if movie_row.empty:\n",
    "        return f\"Movie '{title}' not found.\"\n",
    "    \n",
    "    movie_id = movie_row['movieId'].values[0]\n",
    "\n",
    "    all_movie_ids = user['movieId'].unique()\n",
    "    other_movie_ids = [mid for mid in all_movie_ids if mid != movie_id]\n",
    "\n",
    "    predictions = []\n",
    "\n",
    "    for other_movie_id in other_movie_ids:\n",
    "        pred = model.predict(user_id, other_movie_id)\n",
    "        predictions.append((other_movie_id, pred.est))  \n",
    "\n",
    "    predictions.sort(key=lambda x: x[1], reverse=True)\n",
    "    \n",
    "    recommended_ids = [pred[0] for pred in predictions][:top_n]\n",
    "    \n",
    "    recommended_titles = user[user['movieId'].isin(recommended_ids)]['title'].drop_duplicates().tolist()\n",
    "    \n",
    "    return recommended_titles"
   ]
  },
  {
   "cell_type": "code",
   "execution_count": 189,
   "id": "40725a66-24ce-4762-9e25-64e235ac28f1",
   "metadata": {},
   "outputs": [
    {
     "data": {
      "text/plain": [
       "['the usual suspects',\n",
       " 'the maltese falcon',\n",
       " 'the godfather',\n",
       " \"one flew over the cuckoo's nest\",\n",
       " 'modern times']"
      ]
     },
     "execution_count": 189,
     "metadata": {},
     "output_type": "execute_result"
    }
   ],
   "source": [
    "collaborative_recommendations(1,'antz',user,model)"
   ]
  },
  {
   "cell_type": "code",
   "execution_count": 209,
   "id": "f7871fcd-da84-4db0-84d1-67fd5eba44c8",
   "metadata": {},
   "outputs": [],
   "source": [
    "def collaborative_recommendation(user_id, movie_id):\n",
    "    pred = model.predict(user_id, movie_id)\n",
    "    return pred.est  \n"
   ]
  },
  {
   "cell_type": "code",
   "execution_count": 218,
   "id": "e5de44df-1c13-4ec8-afa0-a1ce5b6e45eb",
   "metadata": {},
   "outputs": [],
   "source": [
    "def hybrid_recommendation(user_id, title, top_n=10):\n",
    "       \n",
    "    content_similar_movies = content_recommendations(title)\n",
    "    \n",
    "    if isinstance(content_similar_movies, str):\n",
    "        return content_similar_movies  \n",
    "    \n",
    "    hybrid_scores = []\n",
    "\n",
    "    for movie in content_similar_movies:\n",
    "        movie_id = df[df['title'] == movie].iloc[0]['id']\n",
    "        \n",
    "        collab_score = float(collaborative_recommendation(user_id, movie_id))\n",
    "        \n",
    "        content_score = float(df[df['title'] == movie].iloc[0]['Weighted_Rating'])\n",
    "        \n",
    "        hybrid_score = round((0.5 * collab_score + 0.5 * content_score),3)\n",
    "        \n",
    "        hybrid_scores.append((movie, hybrid_score))\n",
    "    \n",
    "    hybrid_scores = sorted(hybrid_scores, key=lambda x: x[1], reverse=True)\n",
    "    \n",
    "    return hybrid_scores[:top_n]\n"
   ]
  },
  {
   "cell_type": "code",
   "execution_count": 217,
   "id": "657c07e2-8c86-4f74-96d9-22e7cefe73bc",
   "metadata": {},
   "outputs": [
    {
     "data": {
      "text/plain": [
       "[('i stand alone', 5.23),\n",
       " ('23', 5.06),\n",
       " ('beloved', 4.9),\n",
       " ('bloody angels', 4.9),\n",
       " ('black heaven', 4.9)]"
      ]
     },
     "execution_count": 217,
     "metadata": {},
     "output_type": "execute_result"
    }
   ],
   "source": [
    "hybrid_recommendation(91,'antz')"
   ]
  },
  {
   "cell_type": "code",
   "execution_count": null,
   "id": "24195d62-02eb-4dec-af66-cc19faad8e9c",
   "metadata": {},
   "outputs": [],
   "source": []
  }
 ],
 "metadata": {
  "kernelspec": {
   "display_name": "Python 3 (ipykernel)",
   "language": "python",
   "name": "python3"
  },
  "language_info": {
   "codemirror_mode": {
    "name": "ipython",
    "version": 3
   },
   "file_extension": ".py",
   "mimetype": "text/x-python",
   "name": "python",
   "nbconvert_exporter": "python",
   "pygments_lexer": "ipython3",
   "version": "3.12.4"
  }
 },
 "nbformat": 4,
 "nbformat_minor": 5
}
